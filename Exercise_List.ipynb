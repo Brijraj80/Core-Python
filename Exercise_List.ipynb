{
 "cells": [
  {
   "cell_type": "code",
   "execution_count": 9,
   "metadata": {},
   "outputs": [],
   "source": [
    "#Exercise 1 \n",
    "#Create Dictionary , take user input and print meaning of corresponding meaning of ths input word in dictionary\n",
    "dict5 = {'Misogynist':\"Anti Female\",\"Feminist\":\"Anti Male\",\"Right\":\"A basic Right\",\n",
    "         \"Amalgamation\":\"Combination\",\"Disciplined\":\"Well Mannered\"}"
   ]
  },
  {
   "cell_type": "code",
   "execution_count": 10,
   "metadata": {},
   "outputs": [
    {
     "name": "stdout",
     "output_type": "stream",
     "text": [
      "Disciplined\n",
      "Well Mannered\n"
     ]
    }
   ],
   "source": [
    "x  = str(input())\n",
    "print(dict5.get(x))"
   ]
  },
  {
   "cell_type": "code",
   "execution_count": 28,
   "metadata": {},
   "outputs": [
    {
     "name": "stdout",
     "output_type": "stream",
     "text": [
      "Enter your age:10\n",
      "You cannot drive\n"
     ]
    }
   ],
   "source": [
    "#Exercise 2\n",
    "#if else exercise\n",
    "age = int(input(\"Enter your age:\"))\n",
    "if(0<age<100):\n",
    "    if (age>18):\n",
    "        print(\"You can Drive\")\n",
    "    elif age == 18:\n",
    "        print(\"Avail License\")\n",
    "    else:\n",
    "        print(\"You cannot drive\")\n",
    "else:\n",
    "    print(\"Enter valid age\")"
   ]
  },
  {
   "cell_type": "code",
   "execution_count": 71,
   "metadata": {},
   "outputs": [
    {
     "name": "stdout",
     "output_type": "stream",
     "text": [
      "Enter a number 1:45\n",
      "Enter a number 2:67\n",
      "Enter operator from above list:addition\n",
      "112\n"
     ]
    }
   ],
   "source": [
    "#Exercise 3\n",
    "#Faulty Calcuator\n",
    "num1 = int(input(\"Enter a number 1:\"))\n",
    "num2 = int(input(\"Enter a number 2:\"))\n",
    "operator = {\"Addition\":\"+\",\"Substraction\":\"-\",\"Multiplication\":\"*\",\"Division\":\"/\"}\n",
    "op = input(\"Enter operator from above list:\")\n",
    "op=op.capitalize()\n",
    "\n",
    "if(operator[op]=='*' and num1==45 and num2==3)or(operator[op]=='*' and num1==3 and num2==45 ):\n",
    "    print(\"555\")\n",
    "elif(operator[op]==\"/\" and num1==56 and num2==6):\n",
    "    print(\"4\")\n",
    "elif(operator[op]==\"+\" and num1==56 and num2==9)or(operator[op]==\"+\" and num1==9 and num2==56):\n",
    "    print(\"77\")\n",
    "else:\n",
    "    if(operator[op]==\"+\"):\n",
    "        print(num1+num2)\n",
    "    elif(operator[op]==\"*\"):\n",
    "        print(num1*num2)\n",
    "    elif(operator[op]==\"/\"):\n",
    "        print(num1/num2)\n",
    "    else:\n",
    "        print(\"Enter a valid operation\")"
   ]
  },
  {
   "cell_type": "code",
   "execution_count": 3,
   "metadata": {},
   "outputs": [
    {
     "name": "stdout",
     "output_type": "stream",
     "text": [
      "Guess the number:5\n",
      "Number is less than the actual number , try again.\n",
      "You have following chances left: 4\n",
      "Guess the number:3\n",
      "Number is less than the actual number , try again.\n",
      "You have following chances left: 3\n",
      "Guess the number:7\n",
      "Number is less than the actual number , try again.\n",
      "You have following chances left: 2\n",
      "Guess the number:9\n",
      "Number is greater than the the actual number , try again.\n",
      "You have following chances left: 1\n",
      "Guess the number:8\n",
      "Match\n",
      "You took this many guesses: 1\n"
     ]
    }
   ],
   "source": [
    "#Guess the number\n",
    "n = 8\n",
    "i=0\n",
    "j=5\n",
    "while(i==0):\n",
    "    if(j<=0):\n",
    "        print(\"You have no chances left\")\n",
    "        break;\n",
    "    else:\n",
    "        k = int(input(\"Guess the number:\"))\n",
    "        if k == 8:\n",
    "            print(\"Match\")\n",
    "            break\n",
    "        elif k < 8:\n",
    "            print(\"Number is less than the actual number , try again.\")\n",
    "            j = j-1\n",
    "            print(\"You have following chances left:\",j)\n",
    "        else :\n",
    "            print(\"Number is greater than the the actual number , try again.\")\n",
    "            j=j-1\n",
    "            print(\"You have following chances left:\",j)\n",
    "        \n",
    "        "
   ]
  },
  {
   "cell_type": "code",
   "execution_count": 21,
   "metadata": {},
   "outputs": [
    {
     "name": "stdout",
     "output_type": "stream",
     "text": [
      "Enter number of rows:5\n",
      "Enter 1 for True and 0 for False:0\n",
      "False\n",
      "* * * * * \n",
      "\n",
      "* * * * \n",
      "\n",
      "* * * \n",
      "\n",
      "* * \n",
      "\n",
      "* \n",
      "\n"
     ]
    }
   ],
   "source": [
    "#Pattern exercise\n",
    "n = int(input(\"Enter number of rows:\"))\n",
    "k = bool(int(input(\"Enter 1 for True and 0 for False:\")))\n",
    "print(k)\n",
    "\n",
    "if k == True:\n",
    "\n",
    "    for i in range(0,n):\n",
    "        for j in range(i + 1):\n",
    "            print(\"*\", end=\"\")\n",
    "        print(\"\\n\")\n",
    "   \n",
    "elif k == False:\n",
    "    \n",
    "    for i in range(n,0,-1):\n",
    "        for j in range(i):\n",
    "            print(\"*\",end=\" \")\n",
    "        print(\"\\n\")\n",
    "        \n",
    "else:\n",
    "\n",
    "    print(\"Please Enter boolean value\")"
   ]
  },
  {
   "cell_type": "markdown",
   "metadata": {},
   "source": []
  },
  {
   "cell_type": "code",
   "execution_count": 1,
   "metadata": {},
   "outputs": [
    {
     "data": {
      "text/plain": [
       "('Ben', 2000)"
      ]
     },
     "execution_count": 1,
     "metadata": {},
     "output_type": "execute_result"
    }
   ],
   "source": [
    "#Print max hours and corresponding employee\n",
    "#working with tuples and functions\n",
    "\n",
    "data = [(\"Cassie\",200),(\"Bricks\",100),(\"Kicks\",150),(\"Ben\",2000)]\n",
    "\n",
    "def emp_of_mon(lst):\n",
    "    for i,j in data:\n",
    "        mh = 0\n",
    "        eom = ''\n",
    "    \n",
    "        if j > mh:\n",
    "            mh = j\n",
    "            eom = i\n",
    "        else:\n",
    "            pass\n",
    "    return (eom,mh)\n",
    "\n",
    "\n",
    "emp_of_mon(data)"
   ]
  },
  {
   "cell_type": "code",
   "execution_count": 74,
   "metadata": {},
   "outputs": [
    {
     "name": "stdout",
     "output_type": "stream",
     "text": [
      "Enter your guess [0,1,2,3] :3\n",
      "Correct guess\n"
     ]
    }
   ],
   "source": [
    "#Suffle the cup game , just guess the correct cup\n",
    "#Guess the correct position of 'o'\n",
    "from random import shuffle\n",
    "lst = ['','','o','']\n",
    "\n",
    "def shuffle_list(mylst):\n",
    "    shuffle(mylst)\n",
    "    return mylst\n",
    "\n",
    "\n",
    "def guess():\n",
    "    guess= ''\n",
    "    \n",
    "    while guess not in ['0','1','2','3']:\n",
    "        guess = input(\"Enter your guess [0,1,2,3] :\")\n",
    "    \n",
    "    return int(guess)\n",
    "\n",
    "\n",
    "def check (a,b):\n",
    "    if lst[a] == 'o' :\n",
    "        print(\"Correct guess\")\n",
    "    else:\n",
    "        print(\"Incorrect guess\")\n",
    "\n",
    "        \n",
    "\n",
    "shuffle_list(lst)\n",
    "myind = guess()\n",
    "check(myind,results)"
   ]
  },
  {
   "cell_type": "code",
   "execution_count": 76,
   "metadata": {},
   "outputs": [
    {
     "data": {
      "text/plain": [
       "'True'"
      ]
     },
     "execution_count": 76,
     "metadata": {},
     "output_type": "execute_result"
    }
   ],
   "source": [
    "def myfunc(a):\n",
    "    if a==True:\n",
    "        return \"True\"\n",
    "    else:\n",
    "        return \"False\"\n",
    "a = True\n",
    "myfunc(a)"
   ]
  },
  {
   "cell_type": "code",
   "execution_count": 81,
   "metadata": {},
   "outputs": [
    {
     "data": {
      "text/plain": [
       "True"
      ]
     },
     "execution_count": 81,
     "metadata": {},
     "output_type": "execute_result"
    }
   ],
   "source": [
    "def keyword(first_name,last_name):\n",
    "    if first_name[0].lower() == last_name[0].lower():\n",
    "        return True\n",
    "    else:\n",
    "        return False\n",
    "\n",
    "keyword(\"Akram\",\"akbar\")"
   ]
  },
  {
   "cell_type": "code",
   "execution_count": 106,
   "metadata": {},
   "outputs": [
    {
     "name": "stdout",
     "output_type": "stream",
     "text": [
      "Enter the number:20\n",
      "Enter the number:1\n"
     ]
    },
    {
     "data": {
      "text/plain": [
       "True"
      ]
     },
     "execution_count": 106,
     "metadata": {},
     "output_type": "execute_result"
    }
   ],
   "source": [
    "#function to return true or false if any number or their sum is 20\n",
    "def fun(a,b):\n",
    "    sum = a+b\n",
    "    if sum == 20 or a == 20 or b == 20:\n",
    "        return True\n",
    "    else:\n",
    "        return False\n",
    "\n",
    "a=int(input(\"Enter the number:\"))\n",
    "b=int(input(\"Enter the number:\"))\n",
    "\n",
    "fun(a,b)"
   ]
  },
  {
   "cell_type": "code",
   "execution_count": 105,
   "metadata": {},
   "outputs": [
    {
     "data": {
      "text/plain": [
       "'HimAchal'"
      ]
     },
     "execution_count": 105,
     "metadata": {},
     "output_type": "execute_result"
    }
   ],
   "source": [
    "#function to capitalize of 1st and 4th letter of string\n",
    "def cap(strr):\n",
    "    a=strr[0].upper()\n",
    "    b=strr[1:3]\n",
    "    c=strr[3].upper()\n",
    "    d=strr[4:]\n",
    "    \n",
    "    return a + b + c + d\n",
    "cap(\"himachal\")"
   ]
  },
  {
   "cell_type": "code",
   "execution_count": 31,
   "metadata": {},
   "outputs": [
    {
     "name": "stdout",
     "output_type": "stream",
     "text": [
      "(4, 5) (8, 7)\n"
     ]
    }
   ],
   "source": [
    "#\n",
    "class Line():\n",
    "    def __init__(self,a,b):\n",
    "        self.a = a\n",
    "        self.b = b\n",
    "        print(a,b)\n",
    "    def distance(self): \n",
    "        x1,y1 = self.a\n",
    "        x2,y2 = self.b\n",
    "        \n",
    "        return ((x2-x1)**2 + (y2-y1)**2)**0.5\n",
    "        \n",
    "        \n",
    "    def slope(self):\n",
    "        x1,y1= self.a\n",
    "        x2,y2 = self.b\n",
    "        return (y2-y1)/(x2-x1) \n",
    "        \n",
    "\n",
    "l1 = (4,5)\n",
    "l2 = (8,7)\n",
    "\n",
    "l1 = Line(l1,l2)"
   ]
  },
  {
   "cell_type": "code",
   "execution_count": 32,
   "metadata": {},
   "outputs": [
    {
     "data": {
      "text/plain": [
       "4.47213595499958"
      ]
     },
     "execution_count": 32,
     "metadata": {},
     "output_type": "execute_result"
    }
   ],
   "source": [
    "l1.distance()"
   ]
  },
  {
   "cell_type": "code",
   "execution_count": 33,
   "metadata": {},
   "outputs": [
    {
     "data": {
      "text/plain": [
       "0.5"
      ]
     },
     "execution_count": 33,
     "metadata": {},
     "output_type": "execute_result"
    }
   ],
   "source": [
    "l1.slope()"
   ]
  },
  {
   "cell_type": "code",
   "execution_count": 37,
   "metadata": {},
   "outputs": [],
   "source": [
    "class Cylinder:\n",
    "    pi = 3.14\n",
    "    def __init__(self,radius,height):\n",
    "        self.radius = radius \n",
    "        self.height = height\n",
    "    \n",
    "    def area(self):\n",
    "        return 2*self.pi*self.radius*self.height + self.pi* (self.radius**2) + self.height\n",
    "    \n",
    "    def volume(self):\n",
    "        return self.pi * (self.radius**2) * self.height\n",
    "\n",
    "c1 = Cylinder(4,1)"
   ]
  },
  {
   "cell_type": "code",
   "execution_count": 38,
   "metadata": {},
   "outputs": [
    {
     "data": {
      "text/plain": [
       "76.36"
      ]
     },
     "execution_count": 38,
     "metadata": {},
     "output_type": "execute_result"
    }
   ],
   "source": [
    "c1.area()"
   ]
  },
  {
   "cell_type": "code",
   "execution_count": 39,
   "metadata": {},
   "outputs": [
    {
     "data": {
      "text/plain": [
       "50.24"
      ]
     },
     "execution_count": 39,
     "metadata": {},
     "output_type": "execute_result"
    }
   ],
   "source": [
    "c1.volume()"
   ]
  },
  {
   "cell_type": "code",
   "execution_count": 52,
   "metadata": {},
   "outputs": [
    {
     "name": "stdout",
     "output_type": "stream",
     "text": [
      "You called deposit method\n",
      "Enter the amount you want to deposit:5000\n",
      "You have total amount :6000\n",
      "You called widthraw method\n",
      "Enter the amount to widthraw:6000\n",
      "Your total balance is : 0\n"
     ]
    }
   ],
   "source": [
    "#Creating a bank account \n",
    "class BankAccount:\n",
    "    balance = ''\n",
    "    amount = ''\n",
    "    def __init__(self,owner,balance):\n",
    "        self.owner = owner\n",
    "        self.balance = balance\n",
    "    \n",
    "    def deposit(self):\n",
    "        print(\"You called deposit method\")\n",
    "        cash = int(input(\"Enter the amount you want to deposit:\"))\n",
    "        \n",
    "        cash = int(self.balance)+cash\n",
    "        self.amount = cash\n",
    "        \n",
    "        print(\"You have total amount :{}\".format(cash))\n",
    "        \n",
    "    def widthraw(self):\n",
    "        print(\"You called widthraw method\")\n",
    "        width = int(input(\"Enter the amount to widthraw:\"))\n",
    "        \n",
    "        if width>self.amount:\n",
    "            return \"Insufficient balance\"\n",
    "        else:\n",
    "            self.amount = self.amount - width \n",
    "            print(\"Your total balance is : {}\".format(self.amount))\n",
    "\n",
    "                  \n",
    "b1 = BankAccount(\"Jose\",\"1000\")\n",
    "b1.deposit()\n",
    "b1.widthraw()"
   ]
  },
  {
   "cell_type": "code",
   "execution_count": null,
   "metadata": {},
   "outputs": [],
   "source": []
  }
 ],
 "metadata": {
  "kernelspec": {
   "display_name": "Python 3",
   "language": "python",
   "name": "python3"
  },
  "language_info": {
   "codemirror_mode": {
    "name": "ipython",
    "version": 3
   },
   "file_extension": ".py",
   "mimetype": "text/x-python",
   "name": "python",
   "nbconvert_exporter": "python",
   "pygments_lexer": "ipython3",
   "version": "3.8.3"
  }
 },
 "nbformat": 4,
 "nbformat_minor": 4
}
