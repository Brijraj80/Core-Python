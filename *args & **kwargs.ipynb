{
 "cells": [
  {
   "cell_type": "code",
   "execution_count": 6,
   "metadata": {},
   "outputs": [
    {
     "name": "stdout",
     "output_type": "stream",
     "text": [
      "(1, 2, 3, 4, 5, 6, 7, 8, 9, 10)\n"
     ]
    },
    {
     "data": {
      "text/plain": [
       "10"
      ]
     },
     "execution_count": 6,
     "metadata": {},
     "output_type": "execute_result"
    }
   ],
   "source": [
    "# args is a tuple\n",
    "# *args allows you to pass multiple parameters in a argument\n",
    "# args is optional like you can define it as *blob and still it will function the same\n",
    "\n",
    "\n",
    "def xoxo(*args):\n",
    "    print(args)\n",
    "    return max(args)\n",
    "\n",
    "\n",
    "\n",
    "xoxo(1,2,3,4,5,6,7,8,9,10)"
   ]
  },
  {
   "cell_type": "code",
   "execution_count": 9,
   "metadata": {},
   "outputs": [
    {
     "name": "stdout",
     "output_type": "stream",
     "text": [
      "{'first': 'brijraj', 'middle': 'gohil', 'last': 80, 'postfix': '@gmail.com'}\n"
     ]
    }
   ],
   "source": [
    "#**kwargs \n",
    "#used for a arbirary length keyowrd argument\n",
    "#a keyworded argument is typically a dictionary \n",
    "\n",
    "def xoxo(**kwargs):\n",
    "    print(kwargs)\n",
    "    \n",
    "xoxo(first=\"brijraj\",middle=\"gohil\",last=80,postfix=\"@gmail.com\")"
   ]
  },
  {
   "cell_type": "code",
   "execution_count": 11,
   "metadata": {},
   "outputs": [
    {
     "name": "stdout",
     "output_type": "stream",
     "text": [
      "args: (1, 2, 3, 4, 5, 6, 7, 8, 9)\n",
      "kwargs: {'first': 'Brij', 'last': 'Gohil', 'prefix': '@gmail.com'}\n"
     ]
    }
   ],
   "source": [
    "#KWARGS AND ARGS COMBINED IN ONE\n",
    "def xoxo(*args,**kwargs):\n",
    "    print(\"args:\",args)\n",
    "    print(\"kwargs:\",kwargs)\n",
    "\n",
    "xoxo(1,2,3,4,5,6,7,8,9,first=\"Brij\",last=\"Gohil\",prefix=\"@gmail.com\")"
   ]
  },
  {
   "cell_type": "code",
   "execution_count": 15,
   "metadata": {},
   "outputs": [
    {
     "name": "stdout",
     "output_type": "stream",
     "text": [
      "first Brijraj\n",
      "middle sinh\n",
      "last Gohil\n",
      "{'first': 'Brijraj', 'middle': 'sinh', 'last': 'Gohil'}\n"
     ]
    }
   ],
   "source": [
    "#KWARGS\n",
    "\n",
    "def xoxo(**kwargs):\n",
    "    for key,value in kwargs.items():\n",
    "        print(key,value)\n",
    "    print(kwargs)\n",
    "xoxo(first=\"Brijraj\",middle=\"sinh\",last=\"Gohil\")"
   ]
  },
  {
   "cell_type": "code",
   "execution_count": 17,
   "metadata": {},
   "outputs": [
    {
     "data": {
      "text/plain": [
       "55"
      ]
     },
     "execution_count": 17,
     "metadata": {},
     "output_type": "execute_result"
    }
   ],
   "source": [
    "#Define a function which take multiple arguments\n",
    "#return sum of that values\n",
    "def myfunc(*args):\n",
    "    return sum(args)\n",
    "\n",
    "myfunc(1,2,3,4,5,6,7,8,9,10)"
   ]
  },
  {
   "cell_type": "code",
   "execution_count": 37,
   "metadata": {},
   "outputs": [
    {
     "data": {
      "text/plain": [
       "[2, 4, 6, 8]"
      ]
     },
     "execution_count": 37,
     "metadata": {},
     "output_type": "execute_result"
    }
   ],
   "source": [
    "def myfunc(*slope):\n",
    "    even = []\n",
    "    for i in slope:\n",
    "        if i%2==0:\n",
    "            even.append(i)\n",
    "        else:\n",
    "            pass\n",
    "    return even\n",
    "\n",
    "myfunc(1,2,3,4,5,6,7,8)"
   ]
  },
  {
   "cell_type": "code",
   "execution_count": 61,
   "metadata": {},
   "outputs": [
    {
     "name": "stdout",
     "output_type": "stream",
     "text": [
      "C\n",
      "Ca\n",
      "CaS\n",
      "CaSc\n",
      "CaScA\n",
      "CaScAd\n",
      "CaScAdI\n",
      "CaScAdIn\n",
      "CaScAdInG\n",
      "CaScAdInG\n"
     ]
    }
   ],
   "source": [
    "def myfunc(inp):\n",
    "    \n",
    "    sti = \"\"\n",
    "    for i in range(len(inp)):\n",
    "        if i%2 == 0:\n",
    "            sti = sti + inp[i].upper()\n",
    "            print(sti)\n",
    "        else:\n",
    "            sti = sti + inp[i].lower()\n",
    "            print(sti)\n",
    "    print(sti)\n",
    "\n",
    "\n",
    "stin = \"cascading\"\n",
    "myfunc(stin)"
   ]
  },
  {
   "cell_type": "code",
   "execution_count": null,
   "metadata": {},
   "outputs": [],
   "source": []
  }
 ],
 "metadata": {
  "kernelspec": {
   "display_name": "Python 3",
   "language": "python",
   "name": "python3"
  },
  "language_info": {
   "codemirror_mode": {
    "name": "ipython",
    "version": 3
   },
   "file_extension": ".py",
   "mimetype": "text/x-python",
   "name": "python",
   "nbconvert_exporter": "python",
   "pygments_lexer": "ipython3",
   "version": "3.8.3"
  }
 },
 "nbformat": 4,
 "nbformat_minor": 4
}
