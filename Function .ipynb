{
 "cells": [
  {
   "cell_type": "code",
   "execution_count": 29,
   "metadata": {},
   "outputs": [
    {
     "name": "stdout",
     "output_type": "stream",
     "text": [
      "Enter a :6\n",
      "Enter b :6\n",
      "This function calculates the average of two numbers\n",
      "Average : 6.0\n"
     ]
    }
   ],
   "source": [
    "#Function with doc strings\n",
    "def sum(a,b):\n",
    "    \"\"\"This function calculates the average of two numbers\"\"\"\n",
    "    return (a+b)/2\n",
    "\n",
    " \n",
    "a = int(input(\"Enter a :\")) \n",
    "b = int(input(\"Enter b :\"))\n",
    "\n",
    "print(sum.__doc__)\n",
    "print(\"Average :\",sum(a,b))"
   ]
  },
  {
   "cell_type": "code",
   "execution_count": null,
   "metadata": {},
   "outputs": [],
   "source": []
  },
  {
   "cell_type": "code",
   "execution_count": null,
   "metadata": {},
   "outputs": [],
   "source": []
  }
 ],
 "metadata": {
  "kernelspec": {
   "display_name": "Python 3",
   "language": "python",
   "name": "python3"
  },
  "language_info": {
   "codemirror_mode": {
    "name": "ipython",
    "version": 3
   },
   "file_extension": ".py",
   "mimetype": "text/x-python",
   "name": "python",
   "nbconvert_exporter": "python",
   "pygments_lexer": "ipython3",
   "version": "3.8.3"
  }
 },
 "nbformat": 4,
 "nbformat_minor": 4
}
