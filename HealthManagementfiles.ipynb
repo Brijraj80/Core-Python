{
 "cells": [
  {
   "cell_type": "code",
   "execution_count": 9,
   "metadata": {},
   "outputs": [
    {
     "name": "stdout",
     "output_type": "stream",
     "text": [
      "1___Rohan\n",
      "2___Harry\n",
      "3___Karan\n",
      "Select the serial number of the person:3\n",
      "Hello Karan what will you like to select?\n",
      "1__Food Information\n",
      "2__Exercise Information\n",
      "Enter your choice:2\n",
      "2021-02-12 15:16:05.140673 Pull-ups Planks Stretch\n"
     ]
    }
   ],
   "source": [
    "print(\"1___Rohan\\n2___Harry\\n3___Karan\")\n",
    "a = int(input(\"Select the serial number of the person:\"))\n",
    "\n",
    "def dateandtime():\n",
    "    import datetime\n",
    "    return datetime.datetime.now()\n",
    "def getinfo(n):\n",
    "    if a == 1:\n",
    "        print(\"Hello Rohan What will you like to select ?\\n1__Food Information\\n2__Exercise Information\")\n",
    "        k = int(input(\"Enter your choice:\"))\n",
    "        if k == 1:\n",
    "            f = open(\"RohanFood.txt\")\n",
    "            print(dateandtime(),end=\" \")\n",
    "            print(f.readlines())\n",
    "            f.close()\n",
    "        elif k == 2:\n",
    "            print(dateandtime(),end=\" \")\n",
    "            f = open(\"RohanExercise.txt\")\n",
    "            print(f.readline())\n",
    "            f.close()\n",
    "        else:\n",
    "            print(\"Enter a valid number\")\n",
    "    elif a == 2:\n",
    "        print(\"Hello Harry What will you like to select?\\n1__Food Information\\n2__Exercise Information\")\n",
    "        k = int(input(\"Enter your choice:\"))\n",
    "        if k == 1:\n",
    "            print(dateandtime(),end=\" \")\n",
    "            f = open(\"HarryFood.txt\")\n",
    "            print(f.readline())\n",
    "            f.close()\n",
    "        elif k == 2:\n",
    "            print(dateandtime(),end=\" \")\n",
    "            f = open(\"HarryExercise.txt\")\n",
    "            print(f.readline())\n",
    "            f.close()\n",
    "        else:\n",
    "            print(\"Enter a valid number\")\n",
    "    elif a == 3:\n",
    "        print(\"Hello Karan what will you like to select?\\n1__Food Information\\n2__Exercise Information\")\n",
    "        k = int(input(\"Enter your choice:\"))\n",
    "        if k == 1:\n",
    "            print(dateandtime(),end=\" \")\n",
    "            f = open(\"KaranFood.txt\")\n",
    "            print(f.readline())\n",
    "            f.close()\n",
    "        if k == 2:\n",
    "            print(dateandtime(),end=\" \")\n",
    "            f = open(\"KaranExercise.txt\")\n",
    "            print(f.readline())\n",
    "            f.close()\n",
    "        else:\n",
    "            print(\"Enter a valid number\")\n",
    "    else:\n",
    "        print(\"Enter a valid number\")\n",
    "\n",
    "getinfo(a)"
   ]
  },
  {
   "cell_type": "code",
   "execution_count": null,
   "metadata": {},
   "outputs": [],
   "source": []
  },
  {
   "cell_type": "code",
   "execution_count": null,
   "metadata": {},
   "outputs": [],
   "source": []
  }
 ],
 "metadata": {
  "kernelspec": {
   "display_name": "Python 3",
   "language": "python",
   "name": "python3"
  },
  "language_info": {
   "codemirror_mode": {
    "name": "ipython",
    "version": 3
   },
   "file_extension": ".py",
   "mimetype": "text/x-python",
   "name": "python",
   "nbconvert_exporter": "python",
   "pygments_lexer": "ipython3",
   "version": "3.8.3"
  }
 },
 "nbformat": 4,
 "nbformat_minor": 4
}
