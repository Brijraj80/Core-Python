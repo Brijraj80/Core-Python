{
 "cells": [
  {
   "cell_type": "code",
   "execution_count": 15,
   "metadata": {},
   "outputs": [
    {
     "name": "stdout",
     "output_type": "stream",
     "text": [
      "Enter Name:Bish\n",
      "Enter age:21\n",
      "Enter blood group:A\n",
      "Bish\n",
      "21\n",
      "A\n",
      "Brijraj\n"
     ]
    }
   ],
   "source": [
    "class SoftwareEngineer:\n",
    "    #Class Attributes\n",
    "    vron = \"Brijraj\"\n",
    "    def __init__(self,name,age,blgr):\n",
    "    #Instance attributes\n",
    "        self.name = name\n",
    "        self.age = age\n",
    "        self.blgr = blgr\n",
    "    def disp(self,):\n",
    "        print(self.name)\n",
    "        print(self.age)\n",
    "        print(self.blgr)\n",
    "\n",
    "a=input(\"Enter Name:\")\n",
    "b=int(input(\"Enter age:\"))\n",
    "c=input(\"Enter blood group:\")\n",
    "se = SoftwareEngineer(a,b,c)\n",
    "se.disp()\n",
    "print(SoftwareEngineer.vron)"
   ]
  },
  {
   "cell_type": "code",
   "execution_count": 4,
   "metadata": {},
   "outputs": [
    {
     "name": "stdout",
     "output_type": "stream",
     "text": [
      "Enter category:Truck\n",
      "Enter fuel type:Petrol\n",
      "Enter mileage:45\n",
      "Get of truck\n",
      "Truck\n",
      "Petrol\n",
      "45\n",
      "Road is suitable Truck\n",
      "Get of Car\n",
      "Truck\n",
      "Petrol\n",
      "45\n",
      "Road is suitable for Truck\n",
      "Truck Petrol 45\n",
      "Truck Petrol 45\n"
     ]
    }
   ],
   "source": [
    "#inheritance \n",
    "class vehicle:\n",
    "    \n",
    "    def __init__(self,category,fuel_type):\n",
    "        self.category = category \n",
    "        self.fuel_type = fuel_type\n",
    "      \n",
    "    def road(self):\n",
    "        print(\"Road is suitable\",self.category)\n",
    "        \n",
    "class truck(vehicle):\n",
    "    \n",
    "    def __init__(self,category,fuel_type,mileage):\n",
    "        super().__init__(category,fuel_type)\n",
    "        self.mileage = mileage\n",
    "        \n",
    "    def get(self):\n",
    "        print(\"Get of truck\")\n",
    "        print(self.category)\n",
    "        print(self.fuel_type)\n",
    "        print(self.mileage)\n",
    "\n",
    "class car(vehicle):\n",
    "    \n",
    "    def __init__(self,category,fuel_type,mileage):\n",
    "        super().__init__(category,fuel_type)\n",
    "        self.mileage = mileage\n",
    "        \n",
    "    def get(self):\n",
    "        print(\"Get of Car\")\n",
    "        print(self.category)\n",
    "        print(self.fuel_type)\n",
    "        print(self.mileage)\n",
    "        \n",
    "    def road(self):\n",
    "        print(\"Road is suitable for\",self.category)\n",
    "\n",
    "a = input(\"Enter category:\")\n",
    "b = input(\"Enter fuel type:\")\n",
    "c = int(input(\"Enter mileage:\"))\n",
    "tr = truck(a,b,c)\n",
    "tr.get()\n",
    "tr.road()\n",
    "cr = car(a,b,c)\n",
    "cr.get()\n",
    "cr.road()\n",
    "print(tr.category,tr.fuel_type,tr.mileage)\n",
    "print(cr.category,cr.fuel_type,cr.mileage)\n"
   ]
  },
  {
   "cell_type": "code",
   "execution_count": null,
   "metadata": {},
   "outputs": [],
   "source": []
  },
  {
   "cell_type": "code",
   "execution_count": 7,
   "metadata": {},
   "outputs": [
    {
     "name": "stdout",
     "output_type": "stream",
     "text": [
      "Hello Brij\n",
      "Hellloooo\n"
     ]
    }
   ],
   "source": [
    "def rot(name):\n",
    "    print(f\"Hello {name}\")\n",
    "    print(\"Hellloooo\")\n",
    "rot(\"Brij\")"
   ]
  },
  {
   "cell_type": "code",
   "execution_count": 14,
   "metadata": {},
   "outputs": [
    {
     "name": "stdout",
     "output_type": "stream",
     "text": [
      "Enter number 1 :34\n",
      "Enter number 2 :34\n",
      "68\n",
      "68\n",
      "None\n"
     ]
    }
   ],
   "source": [
    "def print_result(a,b):\n",
    "    print(a+b)\n",
    "a = int(input(\"Enter number 1 :\"))\n",
    "b = int(input(\"Enter number 2 :\"))\n",
    "\n",
    "print_result(a,b)\n",
    "result = print_result(a,b)\n",
    "type(result)\n",
    "print(result)"
   ]
  },
  {
   "cell_type": "code",
   "execution_count": 17,
   "metadata": {},
   "outputs": [
    {
     "name": "stdout",
     "output_type": "stream",
     "text": [
      "68\n"
     ]
    },
    {
     "data": {
      "text/plain": [
       "int"
      ]
     },
     "execution_count": 17,
     "metadata": {},
     "output_type": "execute_result"
    }
   ],
   "source": [
    "def return_results(a,b):\n",
    "    return a+b\n",
    "\n",
    "return_results(a,b)\n",
    "results = return_results(a,b)\n",
    "print(results)\n",
    "type(results)"
   ]
  },
  {
   "cell_type": "markdown",
   "metadata": {},
   "source": []
  },
  {
   "cell_type": "code",
   "execution_count": 25,
   "metadata": {},
   "outputs": [
    {
     "name": "stdout",
     "output_type": "stream",
     "text": [
      "68\n",
      "68\n"
     ]
    },
    {
     "data": {
      "text/plain": [
       "int"
      ]
     },
     "execution_count": 25,
     "metadata": {},
     "output_type": "execute_result"
    }
   ],
   "source": [
    "def get(a,b):\n",
    "    print(a+b)\n",
    "    return a+b\n",
    "\n",
    "result = get(a,b)\n",
    "print(result)\n",
    "type(result)"
   ]
  },
  {
   "cell_type": "code",
   "execution_count": 41,
   "metadata": {},
   "outputs": [
    {
     "name": "stdout",
     "output_type": "stream",
     "text": [
      "Even\n",
      "Even\n",
      "Even\n",
      "Even\n"
     ]
    }
   ],
   "source": [
    "def logic(lst):\n",
    "    for i in lst:\n",
    "        if i%2==0:\n",
    "            print(\"Even\")\n",
    "        else:\n",
    "            print(\"Odd\")\n",
    "        \n",
    "lst1=[2,4,8,6]\n",
    "logic(lst1)"
   ]
  },
  {
   "cell_type": "code",
   "execution_count": 42,
   "metadata": {},
   "outputs": [
    {
     "name": "stdout",
     "output_type": "stream",
     "text": [
      "Odd\n",
      "Even\n",
      "Odd\n",
      "Even\n"
     ]
    }
   ],
   "source": [
    "lst2 = [1,2,3,4]\n",
    "logic(lst2)"
   ]
  },
  {
   "cell_type": "code",
   "execution_count": 43,
   "metadata": {},
   "outputs": [
    {
     "name": "stdout",
     "output_type": "stream",
     "text": [
      "Odd\n",
      "Odd\n",
      "Odd\n"
     ]
    }
   ],
   "source": [
    "lst3 = [5,7,9]\n",
    "logic(lst3)"
   ]
  },
  {
   "cell_type": "code",
   "execution_count": 52,
   "metadata": {},
   "outputs": [
    {
     "name": "stdout",
     "output_type": "stream",
     "text": [
      "Odd\n",
      "Even\n",
      "Odd\n",
      "Even\n"
     ]
    },
    {
     "data": {
      "text/plain": [
       "([2, 4], [1, 3])"
      ]
     },
     "execution_count": 52,
     "metadata": {},
     "output_type": "execute_result"
    }
   ],
   "source": [
    "def logic(lst):\n",
    "    even = list()\n",
    "    odd = list()\n",
    "    for i in lst:\n",
    "        if i%2==0:\n",
    "            print(\"Even\")\n",
    "            even.append(i)\n",
    "        else:\n",
    "            print(\"Odd\")\n",
    "            odd.append(i)\n",
    "            \n",
    "    return even,odd\n",
    "\n",
    "lst1=[2,4,8,6]\n",
    "logic(lst2)"
   ]
  },
  {
   "cell_type": "code",
   "execution_count": 64,
   "metadata": {},
   "outputs": [
    {
     "name": "stdout",
     "output_type": "stream",
     "text": [
      "['A', 'B', 'C', 'D', 'E', 'F', 'G', 'H', 'I', 'J', 'K', 'L', 'M', 'N', 'O', 'P', 'Q', 'R', 'S', 'T', 'U', 'V', 'W', 'X', 'Y', 'Z']\n",
      "('A', 'B', 'C', 'D', 'E', 'F', 'G', 'H', 'I', 'J', 'K', 'L', 'M', 'N', 'O', 'P', 'Q', 'R', 'S', 'T', 'U', 'V', 'W', 'X', 'Y', 'Z')\n",
      "{'P', 'C', 'E', 'R', 'D', 'A', 'G', 'T', 'X', 'I', 'S', 'B', 'Q', 'N', 'M', 'O', 'U', 'K', 'H', 'Z', 'Y', 'J', 'F', 'V', 'W', 'L'}\n"
     ]
    }
   ],
   "source": [
    "a = \"ABCDEFGHIJKLMNOPQRSTUVWXYZ\"\n",
    "k = list(a) \n",
    "b = tuple(a)\n",
    "c = set(a) \n",
    "print(k)\n",
    "print(b)\n",
    "print(c)"
   ]
  },
  {
   "cell_type": "code",
   "execution_count": 65,
   "metadata": {},
   "outputs": [],
   "source": [
    "#As you can see set is unordered \n",
    "#List and tuple are ordered"
   ]
  },
  {
   "cell_type": "code",
   "execution_count": 66,
   "metadata": {},
   "outputs": [
    {
     "name": "stdout",
     "output_type": "stream",
     "text": [
      "['A', 'B', 'C', 'D', 'E', 'F', 'G', 'H', 'I', 'J', 'K', 'L', 'M', 'N', 'O', 'P', 'Q', 'R', 'S', 'T', 'U', 'V', 'W', 'X', 'Y', 'Z', 'A']\n"
     ]
    }
   ],
   "source": [
    "#LIST\n",
    "#Appends to list\n",
    "k.append(\"A\")\n",
    "print(k)"
   ]
  },
  {
   "cell_type": "code",
   "execution_count": 67,
   "metadata": {},
   "outputs": [
    {
     "name": "stdout",
     "output_type": "stream",
     "text": [
      "['A', 'B', 'C', 'D', 'E', 'F', 'G', 'H', 'I', 'J', 'K', 'L', 'M', 'N', 'O', 'P', 'Q', 'R', 'S', 'T', 'U', 'V', 'W', 'X', 'Y', 'Z']\n"
     ]
    }
   ],
   "source": [
    "#Pops the last element \n",
    "k.pop()\n",
    "print(k)"
   ]
  },
  {
   "cell_type": "code",
   "execution_count": 75,
   "metadata": {},
   "outputs": [],
   "source": [
    "#removes elemets one by one mentioned from list\n",
    "k.remove(\"A\")"
   ]
  },
  {
   "cell_type": "code",
   "execution_count": 77,
   "metadata": {},
   "outputs": [
    {
     "name": "stdout",
     "output_type": "stream",
     "text": [
      "['B', 'C', 'D', 'E', 'F', 'G', 'H', 'I', 'J', 'K', 'L', 'M', 'N', 'O', 'P', 'Q', 'R', 'S', 'T', 'U', 'V', 'W', 'X', 'Y', 'Z']\n"
     ]
    }
   ],
   "source": [
    "print(k)"
   ]
  },
  {
   "cell_type": "code",
   "execution_count": 84,
   "metadata": {},
   "outputs": [
    {
     "name": "stdout",
     "output_type": "stream",
     "text": [
      "[0, 1, 2, 3, 4]\n"
     ]
    }
   ],
   "source": [
    "#SET\n",
    "lst = [ i for i in range(0,5)]\n",
    "print(lst)\n",
    "#Adds value in SET from starting position \n",
    "for i in lst:\n",
    "    c.add(i)"
   ]
  },
  {
   "cell_type": "code",
   "execution_count": 86,
   "metadata": {},
   "outputs": [
    {
     "name": "stdout",
     "output_type": "stream",
     "text": [
      "{0, 1, 2, 3, 'P', 4, 'C', 'E', 'R', 'D', 'A', 'G', 'T', 'X', 'I', 'S', 'B', 'Q', 'N', 'M', 'O', 'U', 'K', 'H', 'Z', 'Y', 'J', 'F', 'V', 'W', 'L'}\n"
     ]
    }
   ],
   "source": [
    "print(c)"
   ]
  },
  {
   "cell_type": "code",
   "execution_count": 88,
   "metadata": {},
   "outputs": [],
   "source": [
    "#Removes elements from SET\n",
    "for i in lst:\n",
    "    c.remove(i)"
   ]
  },
  {
   "cell_type": "code",
   "execution_count": 90,
   "metadata": {},
   "outputs": [
    {
     "name": "stdout",
     "output_type": "stream",
     "text": [
      "{'P', 'C', 'E', 'R', 'D', 'A', 'G', 'T', 'X', 'I', 'S', 'B', 'Q', 'N', 'M', 'O', 'U', 'K', 'H', 'Z', 'Y', 'J', 'F', 'V', 'W', 'L'}\n"
     ]
    }
   ],
   "source": [
    "print(c)"
   ]
  },
  {
   "cell_type": "code",
   "execution_count": 96,
   "metadata": {},
   "outputs": [
    {
     "name": "stdout",
     "output_type": "stream",
     "text": [
      "9\n",
      "5\n"
     ]
    }
   ],
   "source": [
    "#Max & Min element \n",
    "a= max(lst3)\n",
    "print(a)\n",
    "\n",
    "b= min(lst3)\n",
    "print(b)"
   ]
  },
  {
   "cell_type": "code",
   "execution_count": 104,
   "metadata": {},
   "outputs": [
    {
     "name": "stdout",
     "output_type": "stream",
     "text": [
      "Enter breed:lab\n",
      "If spots or not:true\n",
      "lab\n",
      "true\n",
      "25\n"
     ]
    }
   ],
   "source": [
    "#Simple class and it's atrributes\n",
    "class Dog():\n",
    "    \n",
    "    def __init__(self,breed,spots):\n",
    "        self.breed = breed\n",
    "        self.spots = spots\n",
    "        \n",
    "        \n",
    "        \n",
    "    def get(self,number):\n",
    "        print(self.breed)\n",
    "        print(self.spots)\n",
    "        print(number)\n",
    "        \n",
    "a= input(\"Enter breed:\")\n",
    "b= input(\"If spots or not:\")\n",
    "my_dog = Dog(a,b)\n",
    "my_dog.get(25)"
   ]
  },
  {
   "cell_type": "code",
   "execution_count": 130,
   "metadata": {},
   "outputs": [
    {
     "ename": "SyntaxError",
     "evalue": "invalid syntax (<ipython-input-130-08e5cbeb9733>, line 11)",
     "output_type": "error",
     "traceback": [
      "\u001b[0;36m  File \u001b[0;32m\"<ipython-input-130-08e5cbeb9733>\"\u001b[0;36m, line \u001b[0;32m11\u001b[0m\n\u001b[0;31m    car = Vehicle(\"Car\",\"Heavy\",45)\u001b[0m\n\u001b[0m    ^\u001b[0m\n\u001b[0;31mSyntaxError\u001b[0m\u001b[0;31m:\u001b[0m invalid syntax\n"
     ]
    }
   ],
   "source": [
    "class Vehicle():\n",
    "    \n",
    "    def __init__(self,category,duty,mileage):\n",
    "        self.category = category\n",
    "        self.duty = duty\n",
    "        self.mileage = int(mileage)\n",
    "        \n",
    "    def get(self):\n",
    "        print(\"The vehicle is of class {} and {} with the mileage of {}\".format(self.category,self.duty,self.mileage)\n",
    "\n",
    "car = Vehicle(\"Car\",\"Heavy\",45)"
   ]
  },
  {
   "cell_type": "code",
   "execution_count": 140,
   "metadata": {},
   "outputs": [
    {
     "name": "stdout",
     "output_type": "stream",
     "text": [
      "The vehicle is of class \n"
     ]
    }
   ],
   "source": [
    "class vehicle():\n",
    "    def __init__(self,category,duty,mileage):\n",
    "        self.category = category\n",
    "        self.duty = duty\n",
    "        self.mileage = int(mileage)\n",
    "        \n",
    "    def get(self):\n",
    "        print(\"The vehicle is of class \")\n",
    "    \n",
    "        \n",
    "car = vehicle(\"Car\",\"Heavy\",45)\n",
    "car.get()"
   ]
  },
  {
   "cell_type": "code",
   "execution_count": 166,
   "metadata": {},
   "outputs": [
    {
     "data": {
      "text/plain": [
       "25.12"
      ]
     },
     "execution_count": 166,
     "metadata": {},
     "output_type": "execute_result"
    }
   ],
   "source": [
    "#Any variable class/instance just used self in starting to access it \n",
    "class Circle():\n",
    "    #Class object attribute\n",
    "    pi = 3.14\n",
    "    def __init__(self,radius,*args):\n",
    "        self.radius = radius\n",
    "        self.area = radius*radius*self.pi\n",
    "        self.argss = args\n",
    "       \n",
    "    def get(self):\n",
    "        return self.pi*self.radius*2\n",
    "\n",
    "cir = Circle(4,5,6,7,8,9,86,5,43,3)\n",
    "cir.get()"
   ]
  },
  {
   "cell_type": "code",
   "execution_count": 167,
   "metadata": {},
   "outputs": [
    {
     "data": {
      "text/plain": [
       "3.14"
      ]
     },
     "execution_count": 167,
     "metadata": {},
     "output_type": "execute_result"
    }
   ],
   "source": [
    "cir.pi"
   ]
  },
  {
   "cell_type": "code",
   "execution_count": 168,
   "metadata": {},
   "outputs": [
    {
     "data": {
      "text/plain": [
       "4"
      ]
     },
     "execution_count": 168,
     "metadata": {},
     "output_type": "execute_result"
    }
   ],
   "source": [
    "cir.radius"
   ]
  },
  {
   "cell_type": "code",
   "execution_count": 169,
   "metadata": {},
   "outputs": [
    {
     "data": {
      "text/plain": [
       "50.24"
      ]
     },
     "execution_count": 169,
     "metadata": {},
     "output_type": "execute_result"
    }
   ],
   "source": [
    "cir.area"
   ]
  },
  {
   "cell_type": "code",
   "execution_count": 182,
   "metadata": {},
   "outputs": [
    {
     "name": "stdout",
     "output_type": "stream",
     "text": [
      "This is bank\n",
      "This is a branch\n",
      "This is get of Bank\n"
     ]
    }
   ],
   "source": [
    "class Bank():\n",
    "    \n",
    "    def __init__(self):\n",
    "        print(\"This is bank\")\n",
    "    \n",
    "    def get(self):\n",
    "        print(\"This is get of Bank\")\n",
    "        \n",
    "class Branch(Bank):\n",
    "    def __init__(self):\n",
    "        Bank.__init__(self)\n",
    "        print(\"This is a branch\")\n",
    "    \n",
    "    def get(self):\n",
    "        super().get()\n",
    "        #print(\"This is get of Branch\")\n",
    "    \n",
    "\n",
    "my_branch = Branch()\n",
    "my_branch.get()\n"
   ]
  },
  {
   "cell_type": "code",
   "execution_count": 183,
   "metadata": {},
   "outputs": [
    {
     "name": "stdout",
     "output_type": "stream",
     "text": [
      "The road not taken is written by Ruskin Bond\n"
     ]
    }
   ],
   "source": [
    "#SPECIAL METHODS __str__\n",
    "class Book():\n",
    "    def __init__(self,author,title,pages):\n",
    "        self.author = author\n",
    "        self.title  = title\n",
    "        self.pages  = pages\n",
    "    \n",
    "    def __str__(self):\n",
    "        return f\"{self.title} is written by {self.author}\"\n",
    "\n",
    "book = Book(\"Ruskin Bond\",\"The road not taken\",56)\n",
    "print(book)"
   ]
  },
  {
   "cell_type": "code",
   "execution_count": null,
   "metadata": {},
   "outputs": [],
   "source": []
  }
 ],
 "metadata": {
  "kernelspec": {
   "display_name": "Python 3",
   "language": "python",
   "name": "python3"
  },
  "language_info": {
   "codemirror_mode": {
    "name": "ipython",
    "version": 3
   },
   "file_extension": ".py",
   "mimetype": "text/x-python",
   "name": "python",
   "nbconvert_exporter": "python",
   "pygments_lexer": "ipython3",
   "version": "3.8.3"
  }
 },
 "nbformat": 4,
 "nbformat_minor": 4
}
