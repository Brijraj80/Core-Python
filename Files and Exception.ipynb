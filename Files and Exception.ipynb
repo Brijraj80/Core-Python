{
 "cells": [
  {
   "cell_type": "code",
   "execution_count": 6,
   "metadata": {},
   "outputs": [
    {
     "name": "stdout",
     "output_type": "stream",
     "text": [
      "Enter number 1 :4\n",
      "Enter number 2 :r\n",
      "invalid literal for int() with base 10: 'r'\n",
      "Printing this line is very important\n"
     ]
    }
   ],
   "source": [
    "#Exception Handling\n",
    "a = input(\"Enter number 1 :\")\n",
    "b = input(\"Enter number 2 :\")\n",
    "\n",
    "try:\n",
    "    c = int(a)+int(b)\n",
    "    print(c)\n",
    "except Exception as e:\n",
    "    print(e)\n",
    "\n",
    "print(\"Printing this line is very important\")"
   ]
  },
  {
   "cell_type": "code",
   "execution_count": 10,
   "metadata": {},
   "outputs": [
    {
     "name": "stdout",
     "output_type": "stream",
     "text": [
      "We should have good habits\n",
      "We should not be shy \n",
      "We should be always open for conversation \n",
      "We should keep our promises \n",
      "We \n",
      "sho\n",
      "uld have goo\n",
      "d habits\n",
      "We should n\n"
     ]
    }
   ],
   "source": [
    "#File oprations \n",
    "\n",
    "#r = read\n",
    "#w = write \n",
    "#t = specifies text file\n",
    "#a = add more content/content to file\n",
    "#x = create file if it doesn't exists\n",
    "#b = binary mode\n",
    "#+ = read and write operation on file \n",
    "\n",
    "file = open(\"habits.txt\")\n",
    "content = file.read()\n",
    "print(content)\n",
    "file.close()\n",
    "\n",
    "file = open(\"habits.txt\")\n",
    "content = file.read(3)\n",
    "print(content)\n",
    "\n",
    "content = file.read(3)\n",
    "print(content)\n",
    "\n",
    "content = file.read(12)\n",
    "print(content)\n",
    "\n",
    "content = file.read(20)\n",
    "print(content)\n",
    "\n",
    "file.close()"
   ]
  },
  {
   "cell_type": "code",
   "execution_count": 22,
   "metadata": {},
   "outputs": [
    {
     "name": "stdout",
     "output_type": "stream",
     "text": [
      "We should have good habits\n",
      "\n",
      "We should not be shy \n",
      "\n",
      "We should be always open for conversation \n",
      "\n"
     ]
    }
   ],
   "source": [
    "#Another approach to print the contents of File\n",
    "file = open(\"habits.txt\")\n",
    "\n",
    "print(file.readline())\n",
    "print(file.readline())\n",
    "print(file.readline())\n",
    "#print(file.readlines())\n",
    "\n",
    "#for i in file:\n",
    "#    print(i,end=\"\")\n",
    "file.close()"
   ]
  },
  {
   "cell_type": "code",
   "execution_count": 23,
   "metadata": {},
   "outputs": [
    {
     "name": "stdout",
     "output_type": "stream",
     "text": [
      "We should have good habits\n",
      "We should not be shy \n",
      "We should be always open for conversation \n",
      "We should keep our promises "
     ]
    }
   ],
   "source": [
    "#Another approach to print the contents of File\n",
    "file = open(\"habits.txt\")\n",
    "for i in file:\n",
    "    print(i,end=\"\")\n",
    "file.close()"
   ]
  },
  {
   "cell_type": "code",
   "execution_count": 44,
   "metadata": {},
   "outputs": [],
   "source": [
    "#Write in a file\n",
    "f = open(\"habits2.txt\",\"a\") # or f = open(\"habits2.txt\",\"w\") write a single line at a time in a file\n",
    "f.write(\"We all are brothers and sisters\\n\")\n",
    "f.close()"
   ]
  },
  {
   "cell_type": "code",
   "execution_count": 53,
   "metadata": {},
   "outputs": [
    {
     "name": "stdout",
     "output_type": "stream",
     "text": [
      "Brijraj is a good boy\n",
      "He dosen't like is family \n",
      "They speak foul languageTheir language was the language spoken by legendsTheir language was the language spoken by legends\n"
     ]
    }
   ],
   "source": [
    "#Read and write on file\n",
    "file = open(\"Family.txt\",\"r+\")\n",
    "print(file.read())\n",
    "file.write(\"Their language was the language spoken by legends\")\n",
    "file.close()"
   ]
  },
  {
   "cell_type": "code",
   "execution_count": 7,
   "metadata": {},
   "outputs": [
    {
     "name": "stdout",
     "output_type": "stream",
     "text": [
      "0\n",
      "Brijraj is a good boy\n",
      "\n",
      "22\n",
      "He dosen't like is family \n",
      "\n",
      "49\n",
      "They speak foul languageTheir language was the language spoken by legendsTheir language was the language spoken by legendsTheir language was the language spoken by legends\n",
      "220\n"
     ]
    }
   ],
   "source": [
    "#tell,seek\n",
    "#tell() : tells the position of the pointer\n",
    "#seek(0) : resets the position of pointer to the position in parenthesis\n",
    "f = open(\"Family.txt\")\n",
    "print(f.tell())\n",
    "print(f.readline())\n",
    "print(f.tell())\n",
    "print(f.readline())\n",
    "print(f.tell())\n",
    "print(f.readline())\n",
    "print(f.tell())\n",
    "f.close()"
   ]
  },
  {
   "cell_type": "code",
   "execution_count": 14,
   "metadata": {},
   "outputs": [
    {
     "name": "stdout",
     "output_type": "stream",
     "text": [
      "0\n",
      "We should have good habits\n",
      "\n",
      "27\n",
      "27\n",
      "We should not be shy \n",
      "\n",
      "0\n",
      "We should have good habits\n",
      "\n"
     ]
    }
   ],
   "source": [
    "f = open(\"habits.txt\")\n",
    "print(f.tell())\n",
    "print(f.readline())\n",
    "print(f.tell())\n",
    "print(f.seek(27))\n",
    "print(f.readline())\n",
    "print(f.seek(0))\n",
    "print(f.readline())\n",
    "f.close()"
   ]
  },
  {
   "cell_type": "code",
   "execution_count": 21,
   "metadata": {},
   "outputs": [
    {
     "name": "stdout",
     "output_type": "stream",
     "text": [
      "['We should have good habits\\n', 'We should not be shy \\n', 'We should be always open for conversation \\n', 'We should keep our promiseswe all are brothers and sisterswe all are brothers and sisterswe all are brothers and sisters']\n",
      "['We should have good habits\\n', 'We should not be shy \\n', 'We should be always open for conversation \\n', 'We should keep our promiseswe all are brothers and sisterswe all are brothers and sisterswe all are brothers and sisters']\n"
     ]
    }
   ],
   "source": [
    "#Opening and closing file with block\n",
    "#Opens and closes file\n",
    "#Single line alternate\n",
    "\n",
    "with open(\"habits.txt\") as f:\n",
    "    print(f.readlines())\n",
    "\n",
    "#Normal Method\n",
    "\n",
    "f = open(\"habits.txt\")\n",
    "print(f.readlines())\n",
    "f.close()"
   ]
  },
  {
   "cell_type": "code",
   "execution_count": null,
   "metadata": {},
   "outputs": [],
   "source": []
  }
 ],
 "metadata": {
  "kernelspec": {
   "display_name": "Python 3",
   "language": "python",
   "name": "python3"
  },
  "language_info": {
   "codemirror_mode": {
    "name": "ipython",
    "version": 3
   },
   "file_extension": ".py",
   "mimetype": "text/x-python",
   "name": "python",
   "nbconvert_exporter": "python",
   "pygments_lexer": "ipython3",
   "version": "3.8.3"
  }
 },
 "nbformat": 4,
 "nbformat_minor": 4
}
