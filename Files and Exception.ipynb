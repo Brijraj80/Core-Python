{
 "cells": [
  {
   "cell_type": "code",
   "execution_count": 6,
   "metadata": {},
   "outputs": [
    {
     "name": "stdout",
     "output_type": "stream",
     "text": [
      "Enter number 1 :4\n",
      "Enter number 2 :r\n",
      "invalid literal for int() with base 10: 'r'\n",
      "Printing this line is very important\n"
     ]
    }
   ],
   "source": [
    "#Exception Handling\n",
    "a = input(\"Enter number 1 :\")\n",
    "b = input(\"Enter number 2 :\")\n",
    "\n",
    "try:\n",
    "    c = int(a)+int(b)\n",
    "    print(c)\n",
    "except Exception as e:\n",
    "    print(e)\n",
    "\n",
    "print(\"Printing this line is very important\")"
   ]
  },
  {
   "cell_type": "code",
   "execution_count": 7,
   "metadata": {},
   "outputs": [
    {
     "data": {
      "text/plain": [
       "\"\\nr = read\\nw = write \\nt = specifies text file\\na = add more content/content to file\\nx = create file if it doesn't exists\\nb = binary mode\\n+ = read and write\\n\""
      ]
     },
     "execution_count": 7,
     "metadata": {},
     "output_type": "execute_result"
    }
   ],
   "source": [
    "#File oprations \n",
    "\n",
    "#r = read (default mode)\n",
    "#w = write \n",
    "#t = specifies text file (default mode)\n",
    "#a = add more content/content to file\n",
    "#x = create file if it doesn't exists\n",
    "#b = binary mode\n",
    "#+ = read and write operation on file \n",
    "\n",
    "\n"
   ]
  },
  {
   "cell_type": "code",
   "execution_count": null,
   "metadata": {},
   "outputs": [],
   "source": []
  }
 ],
 "metadata": {
  "kernelspec": {
   "display_name": "Python 3",
   "language": "python",
   "name": "python3"
  },
  "language_info": {
   "codemirror_mode": {
    "name": "ipython",
    "version": 3
   },
   "file_extension": ".py",
   "mimetype": "text/x-python",
   "name": "python",
   "nbconvert_exporter": "python",
   "pygments_lexer": "ipython3",
   "version": "3.8.3"
  }
 },
 "nbformat": 4,
 "nbformat_minor": 4
}
