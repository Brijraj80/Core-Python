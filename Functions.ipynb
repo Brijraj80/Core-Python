{
 "cells": [
  {
   "cell_type": "code",
   "execution_count": 7,
   "metadata": {},
   "outputs": [
    {
     "name": "stdout",
     "output_type": "stream",
     "text": [
      "('Ben', 2000)\n",
      "Ben\n",
      "2000\n"
     ]
    }
   ],
   "source": [
    "#Print max hours and corresponding employee\n",
    "#working with tuples and functions\n",
    "\n",
    "data = [(\"Cassie\",200),(\"Bricks\",100),(\"Kicks\",150),(\"Ben\",2000)]\n",
    "\n",
    "def emp_of_mon(lst):\n",
    "    for i,j in data:\n",
    "        mh = 0\n",
    "        eom = ''\n",
    "    \n",
    "        if j > mh:\n",
    "            mh = j\n",
    "            eom = i\n",
    "        else:\n",
    "            pass\n",
    "    return (eom,mh)\n",
    "\n",
    "\n",
    "result = emp_of_mon(data)\n",
    "print(result)\n",
    "name,hours = emp_of_mon(data)\n",
    "print(name)\n",
    "print(hours)"
   ]
  },
  {
   "cell_type": "code",
   "execution_count": null,
   "metadata": {},
   "outputs": [],
   "source": []
  }
 ],
 "metadata": {
  "kernelspec": {
   "display_name": "Python 3",
   "language": "python",
   "name": "python3"
  },
  "language_info": {
   "codemirror_mode": {
    "name": "ipython",
    "version": 3
   },
   "file_extension": ".py",
   "mimetype": "text/x-python",
   "name": "python",
   "nbconvert_exporter": "python",
   "pygments_lexer": "ipython3",
   "version": "3.8.3"
  }
 },
 "nbformat": 4,
 "nbformat_minor": 4
}
