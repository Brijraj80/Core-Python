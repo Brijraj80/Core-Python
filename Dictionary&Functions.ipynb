{
 "cells": [
  {
   "cell_type": "code",
   "execution_count": 2,
   "metadata": {},
   "outputs": [
    {
     "name": "stdout",
     "output_type": "stream",
     "text": [
      "{'1': 'Brijraj', '2': 'Hiya', '3': 'Mahek'}\n"
     ]
    }
   ],
   "source": [
    "dict = {'1':'Brijraj','2':'Hiya','3':'Mahek'}\n",
    "print(dict)"
   ]
  },
  {
   "cell_type": "code",
   "execution_count": 3,
   "metadata": {},
   "outputs": [
    {
     "data": {
      "text/plain": [
       "dict"
      ]
     },
     "execution_count": 3,
     "metadata": {},
     "output_type": "execute_result"
    }
   ],
   "source": [
    "type(dict)"
   ]
  },
  {
   "cell_type": "code",
   "execution_count": 4,
   "metadata": {},
   "outputs": [
    {
     "name": "stdout",
     "output_type": "stream",
     "text": [
      "<class 'dict'>\n"
     ]
    }
   ],
   "source": [
    "dict2 = {'Ironman':'Robert','Captain':'Chris','Falcon':'Kite','Widow':'Scarlett'}\n",
    "print(type(dict2))"
   ]
  },
  {
   "cell_type": "code",
   "execution_count": 5,
   "metadata": {},
   "outputs": [
    {
     "data": {
      "text/plain": [
       "'Robert'"
      ]
     },
     "execution_count": 5,
     "metadata": {},
     "output_type": "execute_result"
    }
   ],
   "source": [
    "dict2['Ironman']"
   ]
  },
  {
   "cell_type": "code",
   "execution_count": 6,
   "metadata": {},
   "outputs": [
    {
     "ename": "KeyError",
     "evalue": "'ironman'",
     "output_type": "error",
     "traceback": [
      "\u001b[0;31m---------------------------------------------------------------------------\u001b[0m",
      "\u001b[0;31mKeyError\u001b[0m                                  Traceback (most recent call last)",
      "\u001b[0;32m<ipython-input-6-14efa7b35db9>\u001b[0m in \u001b[0;36m<module>\u001b[0;34m\u001b[0m\n\u001b[0;32m----> 1\u001b[0;31m \u001b[0mdict2\u001b[0m\u001b[0;34m[\u001b[0m\u001b[0;34m'ironman'\u001b[0m\u001b[0;34m]\u001b[0m\u001b[0;34m\u001b[0m\u001b[0;34m\u001b[0m\u001b[0m\n\u001b[0m",
      "\u001b[0;31mKeyError\u001b[0m: 'ironman'"
     ]
    }
   ],
   "source": [
    "#Case sensitive \n",
    "dict2['ironman']"
   ]
  },
  {
   "cell_type": "code",
   "execution_count": 9,
   "metadata": {},
   "outputs": [],
   "source": [
    "#Nested Ditionary\n",
    "dict3 = {'Brijraj':'idli','Mahek':'Frankie','Hiya':'Manchurian','Yash':{'B':'Idli','L':'Frankie','D':'Manchurian'}}"
   ]
  },
  {
   "cell_type": "code",
   "execution_count": 10,
   "metadata": {},
   "outputs": [
    {
     "name": "stdout",
     "output_type": "stream",
     "text": [
      "{'Brijraj': 'idli', 'Mahek': 'Frankie', 'Hiya': 'Manchurian', 'Yash': {'B': 'Idli', 'L': 'Frankie', 'D': 'Manchurian'}}\n"
     ]
    }
   ],
   "source": [
    "print(dict3)"
   ]
  },
  {
   "cell_type": "code",
   "execution_count": 15,
   "metadata": {},
   "outputs": [
    {
     "name": "stdout",
     "output_type": "stream",
     "text": [
      "{'B': 'Idli', 'L': 'Frankie', 'D': 'Manchurian'}\n",
      "Idli\n",
      "Frankie\n"
     ]
    }
   ],
   "source": [
    "print(dict3['Yash'])\n",
    "print(dict3['Yash']['B'])\n",
    "print(dict3['Yash']['L'])"
   ]
  },
  {
   "cell_type": "code",
   "execution_count": 20,
   "metadata": {},
   "outputs": [
    {
     "name": "stdout",
     "output_type": "stream",
     "text": [
      "{'Brijraj': 'idli', 'Mahek': 'Frankie', 'Hiya': 'Manchurian', 'Yash': {'B': 'Idli', 'L': 'Frankie', 'D': 'Manchurian'}, 'Ankit': 'Maggie', 'Kelvi': 'VadaPav', 45: 'Roti'}\n"
     ]
    }
   ],
   "source": [
    "#Add items in dictionary\n",
    "dict3[\"Ankit\"] = \"Maggie\"\n",
    "dict3['Kelvi'] = \"VadaPav\"\n",
    "dict3[45]=\"Roti\"\n",
    "print(dict3)"
   ]
  },
  {
   "cell_type": "code",
   "execution_count": 23,
   "metadata": {},
   "outputs": [],
   "source": [
    "#Delete elements from Diconary\n",
    "del dict3[45]"
   ]
  },
  {
   "cell_type": "code",
   "execution_count": 24,
   "metadata": {},
   "outputs": [
    {
     "name": "stdout",
     "output_type": "stream",
     "text": [
      "{'Brijraj': 'idli', 'Mahek': 'Frankie', 'Hiya': 'Manchurian', 'Yash': {'B': 'Idli', 'L': 'Frankie', 'D': 'Manchurian'}, 'Ankit': 'Maggie', 'Kelvi': 'VadaPav'}\n"
     ]
    }
   ],
   "source": [
    "print(dict3)"
   ]
  },
  {
   "cell_type": "code",
   "execution_count": 25,
   "metadata": {},
   "outputs": [],
   "source": [
    "#Functions of Dictionary \n",
    "dict4 = dict3"
   ]
  },
  {
   "cell_type": "code",
   "execution_count": 26,
   "metadata": {},
   "outputs": [
    {
     "name": "stdout",
     "output_type": "stream",
     "text": [
      "{'Brijraj': 'idli', 'Mahek': 'Frankie', 'Hiya': 'Manchurian', 'Yash': {'B': 'Idli', 'L': 'Frankie', 'D': 'Manchurian'}, 'Ankit': 'Maggie', 'Kelvi': 'VadaPav'}\n"
     ]
    }
   ],
   "source": [
    "print(dict4)"
   ]
  },
  {
   "cell_type": "code",
   "execution_count": 27,
   "metadata": {},
   "outputs": [],
   "source": [
    "del dict4['Ankit']"
   ]
  },
  {
   "cell_type": "code",
   "execution_count": 29,
   "metadata": {},
   "outputs": [
    {
     "name": "stdout",
     "output_type": "stream",
     "text": [
      "{'Brijraj': 'idli', 'Mahek': 'Frankie', 'Hiya': 'Manchurian', 'Yash': {'B': 'Idli', 'L': 'Frankie', 'D': 'Manchurian'}, 'Kelvi': 'VadaPav'}\n",
      "{'Brijraj': 'idli', 'Mahek': 'Frankie', 'Hiya': 'Manchurian', 'Yash': {'B': 'Idli', 'L': 'Frankie', 'D': 'Manchurian'}, 'Kelvi': 'VadaPav'}\n"
     ]
    }
   ],
   "source": [
    "#As you can see the deletion is performed in both the dictionaries so, to avoid this we use COPY function\n",
    "print(dict4)\n",
    "print(dict3)"
   ]
  },
  {
   "cell_type": "code",
   "execution_count": 30,
   "metadata": {},
   "outputs": [],
   "source": [
    "#Copy Function\n",
    "dict4 = dict3.copy()"
   ]
  },
  {
   "cell_type": "code",
   "execution_count": 31,
   "metadata": {},
   "outputs": [
    {
     "name": "stdout",
     "output_type": "stream",
     "text": [
      "{'Brijraj': 'idli', 'Mahek': 'Frankie', 'Hiya': 'Manchurian', 'Yash': {'B': 'Idli', 'L': 'Frankie', 'D': 'Manchurian'}, 'Kelvi': 'VadaPav'}\n",
      "{'Brijraj': 'idli', 'Mahek': 'Frankie', 'Hiya': 'Manchurian', 'Yash': {'B': 'Idli', 'L': 'Frankie', 'D': 'Manchurian'}, 'Kelvi': 'VadaPav'}\n"
     ]
    }
   ],
   "source": [
    "print(dict4)\n",
    "print(dict3)"
   ]
  },
  {
   "cell_type": "code",
   "execution_count": 32,
   "metadata": {},
   "outputs": [],
   "source": [
    "del dict4['Kelvi']"
   ]
  },
  {
   "cell_type": "code",
   "execution_count": 33,
   "metadata": {},
   "outputs": [
    {
     "name": "stdout",
     "output_type": "stream",
     "text": [
      "{'Brijraj': 'idli', 'Mahek': 'Frankie', 'Hiya': 'Manchurian', 'Yash': {'B': 'Idli', 'L': 'Frankie', 'D': 'Manchurian'}}\n",
      "{'Brijraj': 'idli', 'Mahek': 'Frankie', 'Hiya': 'Manchurian', 'Yash': {'B': 'Idli', 'L': 'Frankie', 'D': 'Manchurian'}, 'Kelvi': 'VadaPav'}\n"
     ]
    }
   ],
   "source": [
    "# As you can see key value pair is deleted from dict4 but not dict3 this is the magic of copy function \n",
    "print(dict4)\n",
    "print(dict3)"
   ]
  },
  {
   "cell_type": "code",
   "execution_count": 39,
   "metadata": {},
   "outputs": [
    {
     "name": "stdout",
     "output_type": "stream",
     "text": [
      "idli\n",
      "idli\n"
     ]
    }
   ],
   "source": [
    "#Get the values in dictionary \n",
    "print(dict3['Brijraj'])\n",
    "print(dict3.get('Brijraj'))"
   ]
  },
  {
   "cell_type": "code",
   "execution_count": 43,
   "metadata": {},
   "outputs": [
    {
     "name": "stdout",
     "output_type": "stream",
     "text": [
      "None\n",
      "{'Brijraj': 'Vada', 'Mahek': 'Frankie', 'Hiya': 'Manchurian', 'Yash': {'B': 'Idli', 'L': 'Frankie', 'D': 'Manchurian'}, 'Kelvi': 'VadaPav', 'Leena': 'Chillies'}\n",
      "None\n",
      "{'Brijraj': 'Vada', 'Mahek': 'Frankie', 'Hiya': 'Manchurian', 'Yash': {'B': 'Idli', 'L': 'Frankie', 'D': 'Manchurian'}, 'Kelvi': 'VadaPav', 'Leena': 'Chillies'}\n"
     ]
    }
   ],
   "source": [
    "#Update the values in Dictionary\n",
    "print(dict3.update({'Brijraj':'Vada'}))\n",
    "print(dict3)\n",
    "#Returns none as there is no key named as Leena in dictionary as eventually it can't be updated\n",
    "print(dict3.update({'Leena':'Chillies'}))\n",
    "print(dict3)"
   ]
  },
  {
   "cell_type": "code",
   "execution_count": 55,
   "metadata": {},
   "outputs": [
    {
     "name": "stdout",
     "output_type": "stream",
     "text": [
      "dict_keys(['Brijraj', 'Mahek', 'Hiya', 'Yash', 'Kelvi', 'Leena'])\n",
      "dict_items([('Brijraj', 'Vada'), ('Mahek', 'Frankie'), ('Hiya', 'Manchurian'), ('Yash', {'B': 'Idli', 'L': 'Frankie', 'D': 'Manchurian'}), ('Kelvi', 'VadaPav'), ('Leena', 'Chillies')])\n"
     ]
    }
   ],
   "source": [
    "#Print Keys\n",
    "print(dict3.keys())\n",
    "#Print key value pairs\n",
    "print(dict3.items())"
   ]
  },
  {
   "cell_type": "code",
   "execution_count": 46,
   "metadata": {},
   "outputs": [
    {
     "name": "stdout",
     "output_type": "stream",
     "text": [
      "dict_values(['Vada', 'Frankie', 'Manchurian', {'B': 'Idli', 'L': 'Frankie', 'D': 'Manchurian'}, 'VadaPav', 'Chillies'])\n"
     ]
    }
   ],
   "source": [
    "print(dict3.values())"
   ]
  },
  {
   "cell_type": "code",
   "execution_count": 54,
   "metadata": {},
   "outputs": [
    {
     "name": "stdout",
     "output_type": "stream",
     "text": [
      "Brijraj:Vada\n",
      "Mahek:Frankie\n",
      "Hiya:Manchurian\n",
      "Yash:{'B': 'Idli', 'L': 'Frankie', 'D': 'Manchurian'}\n",
      "Kelvi:VadaPav\n",
      "Leena:Chillies\n"
     ]
    }
   ],
   "source": [
    "for i,j in dict3.items():\n",
    "    print(str(i)+\":\"+str(j))"
   ]
  },
  {
   "cell_type": "code",
   "execution_count": 56,
   "metadata": {},
   "outputs": [],
   "source": [
    "# To have a look at more function search \"Dictionary Functions in google\""
   ]
  },
  {
   "cell_type": "code",
   "execution_count": 58,
   "metadata": {},
   "outputs": [
    {
     "data": {
      "text/plain": [
       "'Create a dictionary , take input from user and print the meaning'"
      ]
     },
     "execution_count": 58,
     "metadata": {},
     "output_type": "execute_result"
    }
   ],
   "source": [
    "#Exercise 1 \n",
    "\"\"\"Create a dictionary , take input from user and print the meaning\"\"\""
   ]
  },
  {
   "cell_type": "code",
   "execution_count": 62,
   "metadata": {},
   "outputs": [
    {
     "name": "stdout",
     "output_type": "stream",
     "text": [
      "Right\n",
      "A basic Right\n"
     ]
    }
   ],
   "source": [
    "dict5 = {'Misogynist':\"Anti Female\",\"Feminist\":\"Anti Male\",\"Right\":\"A basic Right\",\n",
    "         \"Amalgamation\":\"Combination\",\"Disciplined\":\"Well Mannered\"}\n",
    "x  = str(input())\n",
    "print(dict5.get(x))"
   ]
  },
  {
   "cell_type": "code",
   "execution_count": null,
   "metadata": {},
   "outputs": [],
   "source": []
  },
  {
   "cell_type": "code",
   "execution_count": null,
   "metadata": {},
   "outputs": [],
   "source": []
  }
 ],
 "metadata": {
  "kernelspec": {
   "display_name": "Python 3",
   "language": "python",
   "name": "python3"
  }
 },
 "nbformat": 4,
 "nbformat_minor": 4
}
