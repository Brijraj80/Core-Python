{
 "cells": [
  {
   "cell_type": "code",
   "execution_count": 46,
   "metadata": {},
   "outputs": [],
   "source": [
    "#for loop in list\n",
    "xex = [[\"Brijraj\",69],[\"Mahek\",4],[\"Hiya\",45],[\"Siddhant\",30],[\"Unatti\",56],[\"Hales\",32],[\"Rahi\",67],[\"Jaini\",10]]"
   ]
  },
  {
   "cell_type": "code",
   "execution_count": 49,
   "metadata": {},
   "outputs": [
    {
     "name": "stdout",
     "output_type": "stream",
     "text": [
      "Brijraj likes number 69\n",
      "Mahek likes number 4\n",
      "Hiya likes number 45\n",
      "Siddhant likes number 30\n",
      "Unatti likes number 56\n",
      "Hales likes number 32\n",
      "Rahi likes number 67\n",
      "Jaini likes number 10\n"
     ]
    }
   ],
   "source": [
    "for i,j in xex:\n",
    "    print(i,\"likes number\",j)"
   ]
  },
  {
   "cell_type": "code",
   "execution_count": 50,
   "metadata": {},
   "outputs": [
    {
     "ename": "TypeError",
     "evalue": "'dict' object is not callable",
     "output_type": "error",
     "traceback": [
      "\u001b[0;31m---------------------------------------------------------------------------\u001b[0m",
      "\u001b[0;31mTypeError\u001b[0m                                 Traceback (most recent call last)",
      "\u001b[0;32m<ipython-input-50-a81c8c438809>\u001b[0m in \u001b[0;36m<module>\u001b[0;34m\u001b[0m\n\u001b[1;32m      1\u001b[0m \u001b[0;31m#Convert List to Dictionary\u001b[0m\u001b[0;34m\u001b[0m\u001b[0;34m\u001b[0m\u001b[0;34m\u001b[0m\u001b[0m\n\u001b[0;32m----> 2\u001b[0;31m \u001b[0mdic\u001b[0m \u001b[0;34m=\u001b[0m \u001b[0mdict\u001b[0m\u001b[0;34m(\u001b[0m\u001b[0mxex\u001b[0m\u001b[0;34m)\u001b[0m\u001b[0;34m\u001b[0m\u001b[0;34m\u001b[0m\u001b[0m\n\u001b[0m\u001b[1;32m      3\u001b[0m \u001b[0mprint\u001b[0m\u001b[0;34m(\u001b[0m\u001b[0mdic\u001b[0m\u001b[0;34m)\u001b[0m\u001b[0;34m\u001b[0m\u001b[0;34m\u001b[0m\u001b[0m\n",
      "\u001b[0;31mTypeError\u001b[0m: 'dict' object is not callable"
     ]
    }
   ],
   "source": [
    "#Convert List to Dictionary\n",
    "dic = dict(xex)\n",
    "print(dic)"
   ]
  },
  {
   "cell_type": "code",
   "execution_count": 51,
   "metadata": {},
   "outputs": [],
   "source": [
    "#for loop in dictionary\n",
    "dict1 = {\"Brijraj\":69,\"Mahek\":4,\"Hiya\":45,\"Siddhant\":30,\"Unatti\":56,\"Hales\":32,\"Rahi\":67,\"Jaini\":10}"
   ]
  },
  {
   "cell_type": "code",
   "execution_count": 58,
   "metadata": {},
   "outputs": [
    {
     "name": "stdout",
     "output_type": "stream",
     "text": [
      "('Brijraj', 69)\n",
      "('Mahek', 4)\n",
      "('Hiya', 45)\n",
      "('Siddhant', 30)\n",
      "('Unatti', 56)\n",
      "('Hales', 32)\n",
      "('Rahi', 67)\n",
      "('Jaini', 10)\n"
     ]
    }
   ],
   "source": [
    "for i in dict1.items():\n",
    "    print(i)"
   ]
  },
  {
   "cell_type": "code",
   "execution_count": 59,
   "metadata": {},
   "outputs": [
    {
     "name": "stdout",
     "output_type": "stream",
     "text": [
      "Brijraj\n",
      "Mahek\n",
      "Hiya\n",
      "Siddhant\n",
      "Unatti\n",
      "Hales\n",
      "Rahi\n",
      "Jaini\n"
     ]
    }
   ],
   "source": [
    "for i in dict1:\n",
    "    print(i)"
   ]
  },
  {
   "cell_type": "code",
   "execution_count": 62,
   "metadata": {},
   "outputs": [
    {
     "name": "stdout",
     "output_type": "stream",
     "text": [
      "Lolzie\n",
      "Lolzie\n",
      "3\n",
      "Lolzie\n",
      "Lolzie\n",
      "Lolzie\n"
     ]
    }
   ],
   "source": [
    "#For Loop in tuple , similar to list\n",
    "tup = (1,2,3,4,5,6)\n",
    "for i in tup:\n",
    "    if(i==3):\n",
    "        print(i)\n",
    "    else:\n",
    "        print(\"Lolzie\")"
   ]
  },
  {
   "cell_type": "code",
   "execution_count": 73,
   "metadata": {},
   "outputs": [
    {
     "name": "stdout",
     "output_type": "stream",
     "text": [
      "String String\n",
      "String Brijaj\n",
      "String Nandini\n",
      "String Mahek\n",
      "String 1\n",
      "String 2\n",
      "String 3\n",
      "String 4\n",
      "8\n",
      "String 6\n",
      "String 5\n",
      "68\n",
      "String 0\n",
      "7\n",
      "String 6\n",
      "79\n",
      "7\n",
      "7\n",
      "String Hiya\n"
     ]
    }
   ],
   "source": [
    "lst = [\"String\",\"Brijaj\",\"Nandini\",\"Mahek\",1,2,3,4,8,6,5,68,0,7,6,79,7,7,\"Hiya\"]\n",
    "\n",
    "for i in lst:\n",
    "    if str(i).isnumeric() and i>6:\n",
    "        print(i)\n",
    "    else:\n",
    "        print(\"String\",i)\n",
    "    \n"
   ]
  },
  {
   "cell_type": "code",
   "execution_count": 78,
   "metadata": {},
   "outputs": [
    {
     "name": "stdout",
     "output_type": "stream",
     "text": [
      "0\n",
      "1\n",
      "2\n",
      "3\n",
      "4\n",
      "5\n",
      "6\n",
      "7\n",
      "8\n",
      "9\n",
      "10\n",
      "11\n",
      "12\n",
      "13\n",
      "14\n",
      "15\n",
      "16\n",
      "17\n",
      "18\n",
      "19\n",
      "20\n",
      "21\n",
      "22\n",
      "23\n",
      "24\n",
      "25\n",
      "26\n",
      "27\n",
      "28\n",
      "29\n",
      "30\n",
      "31\n",
      "32\n",
      "33\n",
      "34\n",
      "35\n",
      "36\n",
      "37\n",
      "38\n",
      "39\n",
      "40\n",
      "41\n",
      "42\n",
      "43\n",
      "44\n"
     ]
    }
   ],
   "source": [
    "i=0\n",
    "while(i<45):\n",
    "    print(i)\n",
    "    i = i + 1 "
   ]
  },
  {
   "cell_type": "code",
   "execution_count": 1,
   "metadata": {},
   "outputs": [
    {
     "name": "stdout",
     "output_type": "stream",
     "text": [
      "Enter your message:Brijraj is annoyinh\n",
      "Brijraj is annoyinh\n",
      "Enter your message:Brijraj is annoying\n",
      "Brijraj is annoying\n",
      "Enter your message:sun and stars\n",
      "sun and stars\n",
      "Enter your message:waffles and cattles\n",
      "waffles and cattles\n",
      "Enter your message:quit\n",
      "quit\n"
     ]
    }
   ],
   "source": [
    "msg =''\n",
    "while msg != 'quit':\n",
    "    msg = input(\"Enter your message:\")\n",
    "    print(msg)"
   ]
  },
  {
   "cell_type": "code",
   "execution_count": 2,
   "metadata": {},
   "outputs": [],
   "source": [
    "import array as arr"
   ]
  },
  {
   "cell_type": "code",
   "execution_count": null,
   "metadata": {},
   "outputs": [],
   "source": []
  }
 ],
 "metadata": {
  "kernelspec": {
   "display_name": "Python 3",
   "language": "python",
   "name": "python3"
  },
  "language_info": {
   "codemirror_mode": {
    "name": "ipython",
    "version": 3
   },
   "file_extension": ".py",
   "mimetype": "text/x-python",
   "name": "python",
   "nbconvert_exporter": "python",
   "pygments_lexer": "ipython3",
   "version": "3.8.3"
  }
 },
 "nbformat": 4,
 "nbformat_minor": 4
}
